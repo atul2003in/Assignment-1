{
 "cells": [
  {
   "cell_type": "markdown",
   "metadata": {},
   "source": [
    "### PYTHON OBJECTIVE"
   ]
  },
  {
   "cell_type": "code",
   "execution_count": null,
   "metadata": {},
   "outputs": [],
   "source": [
    "Q1. How can we create an iterator object from a list? a) Bypassing the given list to the iter() function \n",
    "b) By using a for a loop. \n",
    "c) By using a while loop. \n",
    "d) You cannot create an iterable object "
   ]
  },
  {
   "cell_type": "markdown",
   "metadata": {},
   "source": [
    "#### a) By passing the given list to the iter() function"
   ]
  },
  {
   "cell_type": "code",
   "execution_count": null,
   "metadata": {},
   "outputs": [],
   "source": [
    "Q2. If the function contains at least of one “yield” statement, then it   becomes ______  \n",
    "Choose one a) An iterable \n",
    "b) a generator function \n",
    "c) an anonymous function \n",
    "d) None of the above "
   ]
  },
  {
   "cell_type": "markdown",
   "metadata": {},
   "source": [
    "#### b) a generator function"
   ]
  },
  {
   "cell_type": "code",
   "execution_count": null,
   "metadata": {},
   "outputs": [],
   "source": [
    "Q3. What is the output of the code?  \n",
    "1. mylist =  [1, 3, 6, 10] 2. a = (x**2 for x in mylist) 3. print(next(a), next(a))   \n",
    "a) 1 3 \n",
    "b) 1 9 \n",
    "c) 1 9 36 100 \n",
    "d) 1"
   ]
  },
  {
   "cell_type": "markdown",
   "metadata": {},
   "source": [
    "#### b) 1 9 "
   ]
  },
  {
   "cell_type": "code",
   "execution_count": null,
   "metadata": {},
   "outputs": [],
   "source": [
    "Q4. What are the criteria that must be met to create closure in Python?\n",
    "a) The program Must have the function inside the function. \n",
    "b) The nested function must refer to the value defined in the enclosing function. \n",
    "c) The enclosing function must return the nested \n",
    "d) All of the above"
   ]
  },
  {
   "cell_type": "markdown",
   "metadata": {},
   "source": [
    "#### a) The program Must have the function inside the function."
   ]
  },
  {
   "cell_type": "code",
   "execution_count": null,
   "metadata": {},
   "outputs": [],
   "source": [
    "Q5. What is the output of the code?  \n",
    "1. def Foo(n): 2.     def multiplier(x): 3.         return x * n 4.     return multiplier 5. \n",
    "6. a = Foo(5) 7. b = Foo(5) 8.  9. print(a(b(2))) \n",
    "a) 25. b) 100 c) 10 d) 50 \n"
   ]
  },
  {
   "cell_type": "markdown",
   "metadata": {},
   "source": [
    "#### d) 50 "
   ]
  },
  {
   "cell_type": "code",
   "execution_count": null,
   "metadata": {},
   "outputs": [],
   "source": [
    "Q6. What is the output of the code?  \n",
    "1. def make_pretty(func): 2.     def inner(): 3.         print(\"I got decorated\") 4.         func() \n",
    "        5.     return inner 6.  7. def ordinary(): 8.     print(\"I am ordinary\") 9.     \n",
    "        10. pretty = make_pretty(ordinary) 11. pretty()  \n",
    "        a) I got decorated \n",
    "b) I am pretty \n",
    "c) I got decorated     I am ordinary \n",
    "d) I am ordinary     I got decorated "
   ]
  },
  {
   "cell_type": "markdown",
   "metadata": {},
   "source": [
    "#### c) I got decorated     I am ordinary "
   ]
  },
  {
   "cell_type": "code",
   "execution_count": null,
   "metadata": {},
   "outputs": [],
   "source": [
    "Q7: What is the more pythonic way to use getters and setters? a) Decorators b) Generators. c) Iterators d) @property "
   ]
  },
  {
   "cell_type": "markdown",
   "metadata": {},
   "source": [
    "#### d) @property "
   ]
  },
  {
   "cell_type": "code",
   "execution_count": null,
   "metadata": {},
   "outputs": [],
   "source": [
    "Q8. In Python, there is a built-in function property() that returns a property object. The property object has which of the\n",
    "methods? a) getter() and setter() b) getter(), setter() and delete() c) getter() and delete() d) setter() and delete() "
   ]
  },
  {
   "cell_type": "markdown",
   "metadata": {},
   "source": [
    "#### b) getter(), setter() and delete() "
   ]
  },
  {
   "cell_type": "code",
   "execution_count": null,
   "metadata": {},
   "outputs": [],
   "source": [
    "Q9. Which of the following statement is true? a) You cannot chain multiple decorators in Python. \n",
    "b) Decorators don’t work with functions that take parameters. c) The @ symbol doesn’t have any use while using decorators.\n",
    "d) None of the above "
   ]
  },
  {
   "cell_type": "markdown",
   "metadata": {},
   "source": [
    "#### d) None of the above "
   ]
  },
  {
   "cell_type": "code",
   "execution_count": null,
   "metadata": {},
   "outputs": [],
   "source": [
    "Q10. For the following codes, which of the following statements is true?  \n",
    "1. def printHello(): 2.     print(\"Hello\")      3. a = printHello()  \n",
    "a) Print Hello() is a function, and a is a variable. None of them are objects. \n",
    "b) Both printHello() and the reference to the same object. \n",
    "c) Print Hello() and the reference to different objects. d) Syntax error! You cannot assign function "
   ]
  },
  {
   "cell_type": "markdown",
   "metadata": {},
   "source": [
    "#### b) Both printHello() and the reference to the same object. "
   ]
  },
  {
   "cell_type": "code",
   "execution_count": null,
   "metadata": {},
   "outputs": [],
   "source": [
    "Q11. What is the output of the program? 1. def outerFunction(): 2.     global a 3.     a = 20 4.     def innerFunction(): \n",
    "    5.         global a 6.         a = 30 7.         print('a =', a)   8. a = 10 9. outerFunction() 10. print('a =', a)\n",
    "a) a = 10 a = 30 b) a = 10 c) a = 2 d) a = 30 \n"
   ]
  },
  {
   "cell_type": "markdown",
   "metadata": {},
   "source": [
    "#### c) a = 2"
   ]
  },
  {
   "cell_type": "code",
   "execution_count": null,
   "metadata": {},
   "outputs": [],
   "source": [
    "Q12. Which of the following statements is true? a) A class is a blueprint for the object.\n",
    "b) You can only make the single object from the given class c) Both statements are true. d) Neither statement is true. "
   ]
  },
  {
   "cell_type": "markdown",
   "metadata": {},
   "source": [
    "#### a) A class is a blueprint for the object"
   ]
  },
  {
   "cell_type": "code",
   "execution_count": null,
   "metadata": {},
   "outputs": [],
   "source": [
    "Q13. What is the output of the code?  \n",
    "1. class Foo: 2.   def printLine(self, line='Python'): 3.     print(line) 4.    5. o1 = Foo() 6. o1.printLine('Java')\n",
    "a) Python b) Line c) Java  d) Java Python "
   ]
  },
  {
   "cell_type": "markdown",
   "metadata": {},
   "source": [
    "#### c) Java"
   ]
  },
  {
   "cell_type": "code",
   "execution_count": null,
   "metadata": {},
   "outputs": [],
   "source": [
    "Q14. What is the function of the __init__() function in Python?  \n",
    "a) Initialises the class for use. b) This function is called, when the new object is instantiated \n",
    "c) Initialises all the data attributes to zero when called d) None of the above. "
   ]
  },
  {
   "cell_type": "markdown",
   "metadata": {},
   "source": [
    "#### b) This function is called, when the new object is instantiated"
   ]
  },
  {
   "cell_type": "code",
   "execution_count": null,
   "metadata": {},
   "outputs": [],
   "source": [
    "Q15. What is the output of the code?  \n",
    "1. class Point: 2.     def __init__(self, x = 0, y = 0): 3.       self.x = x+1 4.       self.y = y+1 5.        6. p1 = Point() 7. print(p1.x, p1.y)  \n",
    "a) 0 0  b) 1 1  c) None None  d) x y"
   ]
  },
  {
   "cell_type": "markdown",
   "metadata": {},
   "source": [
    "#### b) 1 1 "
   ]
  },
  {
   "cell_type": "code",
   "execution_count": null,
   "metadata": {},
   "outputs": [],
   "source": [
    "Q16. Which of the following code used the inheritance feature?  a) 1. Class Foo: Pass \n",
    " b) 1. class Foo(object): 2.    pass 3. class Hoo(object): pass \n",
    " c) 1. class Foo: 2.     pass 3. class Hoo(Foo): pass \n",
    " \n",
    "d) None of the above code. "
   ]
  },
  {
   "cell_type": "markdown",
   "metadata": {},
   "source": [
    "#### c) class Foo:\n",
    "            pass\n",
    "        class Hoo(Foo):\n",
    "            pass "
   ]
  },
  {
   "cell_type": "code",
   "execution_count": null,
   "metadata": {},
   "outputs": [],
   "source": [
    "Q17 If you a class is derived from two different classes, it’s called ______ a) Multilevel inheritance b) Multiple Inheritance  \n",
    "c) Hierarchical Inheritance d) Python Inheritance "
   ]
  },
  {
   "cell_type": "markdown",
   "metadata": {},
   "source": [
    "#### b) Multiple Inheritance "
   ]
  },
  {
   "cell_type": "code",
   "execution_count": null,
   "metadata": {},
   "outputs": [],
   "source": [
    "Q18. Which of the following statements is true? a) In Python, the same operator may behave differently depends upon the operands\n",
    "b) You can change the way operators which behave in Python. c) Special method __add()__ is called when + operator \n",
    "d) All of the above. "
   ]
  },
  {
   "cell_type": "markdown",
   "metadata": {},
   "source": [
    "#### d) All of the above."
   ]
  },
  {
   "cell_type": "code",
   "execution_count": null,
   "metadata": {},
   "outputs": [],
   "source": [
    "Q19. What is the output of the code? 1. class Point: 2.    3.     def __init__(self, x = 0, y = 0): 4.       self.x = x 5.       self.y = y 6.    7.     def __sub__(self, other): 8.         x = self.x + other.x 9.         y = self.y + other.y 10.         return Point(x,y) 11.          12. p1 = Point(3, 4) 13. p2 = Point(1, 2) 14. result = p1-p2 15. print(result.x, result.y)\n",
    "        a) 2 2 b) 4 6 c) 0 0 d) 1 1 "
   ]
  },
  {
   "cell_type": "markdown",
   "metadata": {},
   "source": [
    "#### b) 4 6"
   ]
  },
  {
   "cell_type": "code",
   "execution_count": null,
   "metadata": {},
   "outputs": [],
   "source": [
    "Q20. Opening a file in ‘a’ mode\n",
    "a) opens a file for reading b) opens a file for writing c) opens the file for appending, at the end of file \n",
    "d) opens a file for exclusive creation "
   ]
  },
  {
   "cell_type": "markdown",
   "metadata": {},
   "source": [
    "#### c) opens the file for appending, at the end of file "
   ]
  },
  {
   "cell_type": "code",
   "execution_count": null,
   "metadata": {},
   "outputs": [],
   "source": [
    "Q21. What does the following code do?            f = open(\"test.txt\") a) Opens test.txt file for both reading and writing \n",
    "b) Opens test.txt file for reading only c) Opens test.txt file for writing only d) Opens test.txt file in god mode"
   ]
  },
  {
   "cell_type": "markdown",
   "metadata": {},
   "source": [
    "#### b) Opens test.txt file for reading only"
   ]
  },
  {
   "cell_type": "code",
   "execution_count": null,
   "metadata": {},
   "outputs": [],
   "source": [
    "Q22. Which of the codes closes files automatically if an exception  \n",
    " occurs? \n",
    "Choose one \n",
    "a) 1.   with open(\"test.txt\", encoding = 'utf-8')  as  f: 2.     # perform file operation  \n",
    "b) 1. try: 2.      f = open(\"test.txt\",encoding = 'utf-8') 3.      # perform file operations 4. finally: 5.     f.close()  \n",
    "c) None of the above \n",
    "d) Both of the above   "
   ]
  },
  {
   "cell_type": "markdown",
   "metadata": {},
   "source": [
    "#### d) Both of the above   "
   ]
  },
  {
   "cell_type": "code",
   "execution_count": null,
   "metadata": {},
   "outputs": [],
   "source": [
    "Q23. For the following code, 1. f = open('test.txt', 'r', encoding = 'utf-8') 2. f.read() Which of the following statement is\n",
    "true a) This program reads the content of the test.txt file. b) If test.txt contains a newline, read() will return the newline\n",
    "as ‘\\n’. c) You can pass an integer to the read() method d) All of the above."
   ]
  },
  {
   "cell_type": "markdown",
   "metadata": {},
   "source": [
    "#### d) All of the above"
   ]
  },
  {
   "cell_type": "code",
   "execution_count": null,
   "metadata": {},
   "outputs": [],
   "source": [
    "Q24. What does the following code do? os.listdir() a) Prints the current working directory. \n",
    "b) Prints the current working directory.\n",
    "c) Prints all the directories and files inside the given directory d) Make a new directory "
   ]
  },
  {
   "cell_type": "markdown",
   "metadata": {},
   "source": [
    "#### c) Prints all the directories and files inside the given directory"
   ]
  },
  {
   "cell_type": "code",
   "execution_count": null,
   "metadata": {},
   "outputs": [],
   "source": [
    "Q25. Which of the following is correct? a) An exception is an error that occurs in the runtime. \n",
    "b) A syntax error is also an exception. c) An exception is used to exclude a block of code in python. d) All of the above. "
   ]
  },
  {
   "cell_type": "markdown",
   "metadata": {},
   "source": [
    "#### a) An exception is an error that occurs in the runtime"
   ]
  },
  {
   "cell_type": "code",
   "execution_count": null,
   "metadata": {},
   "outputs": [],
   "source": [
    "Q26. What will happen if we try to open the file that doesn’t exist? \n",
    "a) A new file is created. b) Nothing will happen. c) An exception is raised. d) None of the above"
   ]
  },
  {
   "cell_type": "markdown",
   "metadata": {},
   "source": [
    "#### c) An exception is raised"
   ]
  },
  {
   "cell_type": "code",
   "execution_count": null,
   "metadata": {},
   "outputs": [],
   "source": [
    "Q27. What is the output of the code?  \n",
    "1. number = 5.0 2. try: 3.     r = 10/number 4.     print(r) 5. except: 6.     print(\"Oops! Error occurred.\")   \n",
    "a) Oops! Error occurred b) 2.0 c) 2.0 Oops! Error occurred. d) None object  "
   ]
  },
  {
   "cell_type": "markdown",
   "metadata": {},
   "source": [
    "#### b) 2.0"
   ]
  },
  {
   "cell_type": "code",
   "execution_count": null,
   "metadata": {},
   "outputs": [],
   "source": [
    "Q28. What does the following code do?  \n",
    "1. try: 2.   # code that can raise an error 3.    pass 4.    5. except (TypeError, ZeroDivisionError): 6.   print(\"Two\")  \n",
    "a) Prints Two if an exception occurs (doesn’t matter which exception). b) Prints Two if exception doesn’t occur. \n",
    "c) Prints Two if the TypeError or ZeroDivisionError exception occurs. \n",
    "d) Prints Two only if both TypeError and ZeroDivisionError exception occur. "
   ]
  },
  {
   "cell_type": "markdown",
   "metadata": {},
   "source": [
    "#### c) Prints Two if the TypeError or ZeroDivisionError exception occurs"
   ]
  },
  {
   "cell_type": "code",
   "execution_count": null,
   "metadata": {},
   "outputs": [],
   "source": [
    "Q29. Which of the following statement is true? a) You cannot create custom exceptions in Python.\n",
    "b) You can create the user-defined exception by deriving a class from Exception class.\n",
    "c) You can create a user-defined exception by deriving a class from Error class. d) None of the above. "
   ]
  },
  {
   "cell_type": "markdown",
   "metadata": {},
   "source": [
    "#### b) You can create the user-defined exception by deriving a class from Exception class"
   ]
  },
  {
   "cell_type": "code",
   "execution_count": null,
   "metadata": {},
   "outputs": [],
   "source": [
    "Q30. Which of the following statement is true? a) Functions are used to create objects in Python. b) Functions make your \n",
    "program run faster. c) The function is a piece of code that can perform a specific task. d) All of the above "
   ]
  },
  {
   "cell_type": "markdown",
   "metadata": {},
   "source": [
    "#### c) The function is a piece of code that can perform a specific task"
   ]
  },
  {
   "cell_type": "code",
   "execution_count": null,
   "metadata": {},
   "outputs": [],
   "source": [
    "Q31. What is the output of the code? 1. def printLine(text): 2.   print(text, 'is awesome.') 3.  4. printLine('Python')   \n",
    "a) Python b) Python is awesome. c) Text is awesome. d) Is awesome. "
   ]
  },
  {
   "cell_type": "markdown",
   "metadata": {},
   "source": [
    "#### b) Python is awesome"
   ]
  },
  {
   "cell_type": "code",
   "execution_count": null,
   "metadata": {},
   "outputs": [],
   "source": [
    "Q32. If the return statement is not used inside the function, the function will return: \n",
    "a) 0 b) None object c) an arbitrary integer d) Error! Functions in Python must have a return statement. "
   ]
  },
  {
   "cell_type": "markdown",
   "metadata": {},
   "source": [
    "#### b) None object"
   ]
  },
  {
   "cell_type": "code",
   "execution_count": null,
   "metadata": {},
   "outputs": [],
   "source": [
    "Q33. What is the output of the code?  \n",
    "1. def greetPerson(*name): 2.   print('Hello', name) 3.  4. greetPerson('Frodo', 'Sauron')  \n",
    "a) Hello Frodo Hello Sauron  \n",
    "b) Hello ('Frodo', 'Sauron')  \n",
    "c) Hello Frodo  \n",
    "d) Syntax Error! Great person() can take only one argument. "
   ]
  },
  {
   "cell_type": "markdown",
   "metadata": {},
   "source": [
    "#### b) Hello ('Frodo', 'Sauron') "
   ]
  },
  {
   "cell_type": "code",
   "execution_count": null,
   "metadata": {},
   "outputs": [],
   "source": [
    "Q34. What is a recursive function? \n",
    "Choose one a) A function that calls all the functions in the program. b) A function that calls itself.c) A function that that \n",
    "calls all the functions in the program except itself. d) There is no such thing as a recursive function in Python. "
   ]
  },
  {
   "cell_type": "markdown",
   "metadata": {},
   "source": [
    "#### b) A function that calls itself"
   ]
  },
  {
   "cell_type": "code",
   "execution_count": null,
   "metadata": {},
   "outputs": [],
   "source": [
    "Q35. What is the output of the program?  \n",
    "1. result = lambda x: x * x 2. print(result(5))  \n",
    "a) lambda x: x*x b) 10 c) 25 d) 5*5 "
   ]
  },
  {
   "cell_type": "markdown",
   "metadata": {},
   "source": [
    "#### c) 25"
   ]
  },
  {
   "cell_type": "code",
   "execution_count": null,
   "metadata": {},
   "outputs": [],
   "source": [
    "Q36. What is the output of the program?  \n",
    "1. def Foo(x): 2.   if (x==1): 3.     return 1 4.   else: 5.     return x+Foo(x-1) 6.  7. print(Foo(4))  \n",
    "a) 10 b) 24 c) 7 d) 1  "
   ]
  },
  {
   "cell_type": "markdown",
   "metadata": {},
   "source": [
    "#### a) 10"
   ]
  },
  {
   "cell_type": "code",
   "execution_count": null,
   "metadata": {},
   "outputs": [],
   "source": [
    "Q37. Suppose you need to print pi constant defined in the math module. Which of the following code can do this task?  \n",
    "a) print(math.pi) b) print(pi) c)  1. from math import pi 2. print(pi) d) 1. from math import pi 2. print(math.pi) "
   ]
  },
  {
   "cell_type": "markdown",
   "metadata": {},
   "source": [
    "#### from math import pi\n",
    "#### print(pi) "
   ]
  },
  {
   "cell_type": "code",
   "execution_count": null,
   "metadata": {},
   "outputs": [],
   "source": [
    "Q38. Which operator is used in Python to import modules from the packages? \n",
    "Choose one \n",
    "a). operator \n",
    "b) * operator \n",
    "c) -> symbol \n",
    "d) , operator "
   ]
  },
  {
   "cell_type": "markdown",
   "metadata": {},
   "source": [
    "#### a). operator "
   ]
  },
  {
   "cell_type": "code",
   "execution_count": null,
   "metadata": {},
   "outputs": [],
   "source": [
    "Q39. What is the output of the code?  \n",
    "1. numbers = [1, 3, 6] 2. newNumbers = tuple(map(lambda x: x , numbers)) 3. print(newNumbers)  \n",
    "a) [1, 3, 6] b) (1, 3, 6) c) [2, 6, 12] d) (2, 6, 12)  "
   ]
  },
  {
   "cell_type": "markdown",
   "metadata": {},
   "source": [
    "#### b) (1, 3, 6)"
   ]
  },
  {
   "cell_type": "code",
   "execution_count": null,
   "metadata": {},
   "outputs": [],
   "source": [
    "Q40. What is the output of the code?  \n",
    "1. if None: 2.     print(“Hello”)  \n",
    "a) False b) Hello c) Nothing will be printed d) Syntax error "
   ]
  },
  {
   "cell_type": "markdown",
   "metadata": {},
   "source": [
    "#### c) Nothing will be printed"
   ]
  },
  {
   "cell_type": "code",
   "execution_count": 51,
   "metadata": {},
   "outputs": [],
   "source": [
    "Q41. The if-elif-else executes only one block of code among several blocks.\n",
    "a) True. b) False c) It depends on the expression used. d) There is no elif statement in Python. "
   ]
  },
  {
   "cell_type": "markdown",
   "metadata": {},
   "source": [
    "#### a) True"
   ]
  },
  {
   "cell_type": "code",
   "execution_count": null,
   "metadata": {},
   "outputs": [],
   "source": [
    "Q42. What is the output of the code?  \n",
    "1. for i in [1, 0]: 2.   print(i+1)  \n",
    "a) 2    1  \n",
    "b) [2, 1] \n",
    "c) 2     0  \n",
    "d) [2, 0] "
   ]
  },
  {
   "cell_type": "markdown",
   "metadata": {},
   "source": [
    "#### a) 2\n",
    "####    1"
   ]
  },
  {
   "cell_type": "code",
   "execution_count": null,
   "metadata": {},
   "outputs": [],
   "source": [
    "Q43. In the Python, for and while loop can have the optional else   statement? a) Only for loop can have the optional \n",
    "else statement b) Only while loop can have the optional else statement c) Both loops can have optional else statement \n",
    "d) Loops cannot have else statement in Python "
   ]
  },
  {
   "cell_type": "markdown",
   "metadata": {},
   "source": [
    "#### c) Both loops can have optional else statement "
   ]
  },
  {
   "cell_type": "code",
   "execution_count": null,
   "metadata": {},
   "outputs": [],
   "source": [
    "Q44. What is the output of the code?  \n",
    "1. i = sum = 0 2.  3. while i <= 4: 4.     sum += i 5.     i = i+1 6.  7. print(sum)  \n",
    "a) 0  b) 10 c) 4 d) None of the above "
   ]
  },
  {
   "cell_type": "markdown",
   "metadata": {},
   "source": [
    "#### b) 10"
   ]
  },
  {
   "cell_type": "code",
   "execution_count": null,
   "metadata": {},
   "outputs": [],
   "source": [
    "Q45. What is the output of the code?  \n",
    "1. while 4 == 4: 2.     print('4')  \n",
    "a) 4 is printed once b) 4 is printed four times c) 4 is printed infinitely until the program closes d) Syntax error "
   ]
  },
  {
   "cell_type": "markdown",
   "metadata": {},
   "source": [
    "#### c) 4 is printed infinitely until the program closes"
   ]
  },
  {
   "cell_type": "code",
   "execution_count": null,
   "metadata": {},
   "outputs": [],
   "source": [
    "Q46. Is it better to use the for loop instead of while if we are iterating   through a sequence?   a) No, it’s better to use\n",
    "the while loop. b) Yes, for loop is more pythonic choice. \n",
    "c) No, we cannot iterate through a sequence using a while loop. d) No, we cannot iterate through a sequence using loops.  "
   ]
  },
  {
   "cell_type": "markdown",
   "metadata": {},
   "source": [
    "#### b) Yes, for loop is more pythonic choice"
   ]
  },
  {
   "cell_type": "code",
   "execution_count": null,
   "metadata": {},
   "outputs": [],
   "source": [
    "Q47. Which of the following statement is true? a)  “break”- It terminates the loop containing it. b)   “continue” - It is \n",
    "used to skip the rest of the code inside the loops. c)     break and continue: These are almost always \n",
    "    used with if, if...else and if...elif...else    statements. d) All of the above. "
   ]
  },
  {
   "cell_type": "markdown",
   "metadata": {},
   "source": [
    "#### d) All of the above"
   ]
  },
  {
   "cell_type": "code",
   "execution_count": null,
   "metadata": {},
   "outputs": [],
   "source": [
    "Q48. What is the output of the code? \n",
    "1. for char in 'PYTHON STRING': 2.   if char == ' ': 3.       break 4.  \n",
    "5.   print(char, end='') 6.    7.   if char == 'O': 8.       continue  \n",
    "a) PYTHON b) PYTHONSTRING c) PYTHN d) STRING  "
   ]
  },
  {
   "cell_type": "markdown",
   "metadata": {},
   "source": [
    "#### a) PYTHON"
   ]
  },
  {
   "cell_type": "code",
   "execution_count": null,
   "metadata": {},
   "outputs": [],
   "source": [
    "Q49. Which of the statement is true about the “pass”   statement?  \n",
    "a) Python interpreter- It ignores the “pass” statement like comments. b) Pass statement: It terminates the loop containing\n",
    "pass statement. c) It is used as the placeholder for future implementation of functions, loops, etc d) All of the above. "
   ]
  },
  {
   "cell_type": "markdown",
   "metadata": {},
   "source": [
    "#### c) It is used as the placeholder for future implementation of functions, loops, etc"
   ]
  },
  {
   "cell_type": "code",
   "execution_count": null,
   "metadata": {},
   "outputs": [],
   "source": [
    "Q50. In regards to separated value files such as .csv and .tsv, what is   the delimiter?  \n",
    "a) Anywhere the comma (,) character is used in the file. b) Delimiters are not used in separated value files.\n",
    "c) Any character such as the comma (,) or tab (\\t) that is used to separate the column data. \n",
    "d) Any character such as the comma (,) or tab (\\t) that is used to separate the row data "
   ]
  },
  {
   "cell_type": "markdown",
   "metadata": {},
   "source": [
    "#### c) Any character such as the comma (,) or tab (\\t) that is used to separate the column data"
   ]
  },
  {
   "cell_type": "code",
   "execution_count": null,
   "metadata": {},
   "outputs": [],
   "source": [
    "Q51. In separated value files such as .csv and .tsv, what does the first row in the file typically contain?\n",
    "a) The column names of the data. b) The author of the table data. c) The source of the data d) Notes about the table data"
   ]
  },
  {
   "cell_type": "markdown",
   "metadata": {},
   "source": [
    "#### a) The column names of the data"
   ]
  },
  {
   "cell_type": "code",
   "execution_count": null,
   "metadata": {},
   "outputs": [],
   "source": [
    "Q52. Assume you have a file object my_data, which has properly opened a separated value file that uses the tab character (\\t) as the delimiter.\n",
    "What is the proper way to open the file using the Python CSV module and assign it to the variable csv_reader?\n",
    "Assume that csv has already been imported. a) csv.tab_reader(my_data)\n",
    "b) csv.reader(my_data, delimiter='\\t') c) csv.reader(my_data) d) csv.reader(my_data, tab_delimited=True)"
   ]
  },
  {
   "cell_type": "markdown",
   "metadata": {},
   "source": [
    "#### b) csv.reader(my_data, delimiter='\\t')"
   ]
  },
  {
   "cell_type": "code",
   "execution_count": null,
   "metadata": {},
   "outputs": [],
   "source": [
    "Q53. When iterating over an object returned from csv.reader(), what is returned with each iteration? For example, given the \n",
    "following code block that assumes csv_reader is an object returned from csv.reader(), what would be printed to the console with\n",
    "each iteration? for item in csv_reader: print(item) a) The full line of the file as a string b) The row data as a list c)\n",
    "The individual value data that is separated by the delimiter d) The column data as a list"
   ]
  },
  {
   "cell_type": "markdown",
   "metadata": {},
   "source": [
    "#### b) The row data as a list"
   ]
  },
  {
   "cell_type": "code",
   "execution_count": null,
   "metadata": {},
   "outputs": [],
   "source": [
    "Q54. When writing to a CSV file using the .writerow() method of the csv.DictWriter object, what must each key in the input dict \n",
    "represent? Below is an example: with open('test_file.csv', mode='w') as csv_file: writer = csv.DictWriter\n",
    "( csv_file, fieldnames=['first_col', 'second_col'] ) writer.writeheader() # This input dictionary is what the question is\n",
    "referring # to and is not necessarily correct as shown. writer.writerow({'key1':'value1', 'key2':'value2'})\n",
    "a) Each key indicates the row index as an integer for where the data should go b) Each key must match up to the field names\n",
    "(index names) used to identify the row data c) Each key must match up to the field names (column names) used to identify the\n",
    "column data d) Each key indicates the column index as an integer for where the value should go"
   ]
  },
  {
   "cell_type": "markdown",
   "metadata": {},
   "source": [
    "#### c) Each key must match up to the field names (column names) used to identify the column data"
   ]
  },
  {
   "cell_type": "code",
   "execution_count": null,
   "metadata": {},
   "outputs": [],
   "source": [
    "Q55. Which is the correct way to open the CSV file hrdata.csv for reading using the pandas package? Assume that the pandas\n",
    "package has already been imported. a) pandas.open_csv('hrdata.csv', 'r') b) pandas.read_table('hrdata.csv') \n",
    "c) pandas.read_csv('hrdata.csv') d) pandas.open('hrdata.csv','r')"
   ]
  },
  {
   "cell_type": "markdown",
   "metadata": {},
   "source": [
    "#### c) pandas.read_csv('hrdata.csv')"
   ]
  },
  {
   "cell_type": "code",
   "execution_count": null,
   "metadata": {},
   "outputs": [],
   "source": [
    "Q56. By default, pandas uses 0-based indices for indexing rows. Which  \n",
    " is the correct way to import the CSV file hrdata.csv  \n",
    " for reading and using the 'Name' column as the index row instead\n",
    "Below is the contents of hrdata.csv \n",
    "Name,Hire Date,Salary,Sick Days remaining Fred,10/10/10,10000,10 \n",
    " \n",
    "a) pandas.read_csv('hrdata.csv', index_col='Name') b) pandas.read_csv('hrdata.csv', index=0, index_col_name='Name')\n",
    "c) pandas.read_csv('hrdata.csv', index='Name') d) pandas.read_csv('hrdata.csv', index_col=0) "
   ]
  },
  {
   "cell_type": "markdown",
   "metadata": {},
   "source": [
    "#### a) pandas.read_csv('hrdata.csv', index_col='Name')"
   ]
  },
  {
   "cell_type": "code",
   "execution_count": null,
   "metadata": {},
   "outputs": [],
   "source": [
    "Q57. Given the file dog_breeds.txt, which of the following is the correct   way to open the file for reading as a text file? \n",
    "Select all that apply. a) open('dog_breeds.txt', 'w')\n",
    "b) open('dog_breeds.txt', 'r') c) open('dog_breeds.txt') d) open('dog_breeds.txt', 'wb') e) open('dog_breeds.txt', 'rb') "
   ]
  },
  {
   "cell_type": "markdown",
   "metadata": {},
   "source": [
    "#### b) open('dog_breeds.txt', 'r')"
   ]
  },
  {
   "cell_type": "code",
   "execution_count": null,
   "metadata": {},
   "outputs": [],
   "source": [
    "Q58. Given the following directory structure: animals/ │ ├── feline/ │   ├── lions.gif │   └── tigers.gif │ ├── ursine/ │   \n",
    "    └── bears.gif │ └── animals.csv Assuming that the cwd is in the root folder where animals reside, what is the full path to\n",
    "the feline folder? "
   ]
  },
  {
   "cell_type": "markdown",
   "metadata": {},
   "source": [
    "#### c)"
   ]
  },
  {
   "cell_type": "code",
   "execution_count": null,
   "metadata": {},
   "outputs": [],
   "source": [
    "Q59. Given the file jack_russell.png, which of the following is the correct   way to open the file for reading as a\n",
    "buffered binary file? Select   all that apply. \n",
    "open('jack_russell.png', 'rb') \n",
    "open('jack_russell.png', bytes=True) \n",
    "open('jack_russell.png', 'r') \n",
    "open('jack_russell.png') \n",
    "open('jack_russell.png', 'wb') "
   ]
  },
  {
   "cell_type": "markdown",
   "metadata": {},
   "source": [
    "#### a)"
   ]
  },
  {
   "cell_type": "code",
   "execution_count": null,
   "metadata": {},
   "outputs": [],
   "source": [
    "Q60. Using the same directory structure as before: \n",
    " \n",
    "animals/ │ ├── feline/ │   ├── lions.gif │   └── tigers.gif \n",
    " \n",
    "│ ├── ursine/ │   └── bears.gif │ └── animals.csv Assuming that the cwd is in the root folder where Animals reside,\n",
    "what is the full path to the file bears.gif? "
   ]
  },
  {
   "cell_type": "markdown",
   "metadata": {},
   "source": [
    "#### a)"
   ]
  },
  {
   "cell_type": "code",
   "execution_count": null,
   "metadata": {},
   "outputs": [],
   "source": [
    "Q61. Whenever possible, what is the recommended way to ensure that   a file object is properly closed after usage?   \n",
    "a) Making sure that you use the .close() method before the end of the script b) It doesn’t matter \n",
    "c) By using the try/finally block d) By using the with statement "
   ]
  },
  {
   "cell_type": "markdown",
   "metadata": {},
   "source": [
    "#### d)"
   ]
  },
  {
   "cell_type": "code",
   "execution_count": null,
   "metadata": {},
   "outputs": [],
   "source": [
    "Q62. Using the same directory structure as before: \n",
    "animals/ │ ├── feline/  ← cwd │   ├── lions.gif │   └── tigers.gif │ ├── ursine/ │   └── bears.gif │ └── animals.csv \n",
    "Assuming that the cwd is in the feline folder, what is the relative path to the file bears.gif? "
   ]
  },
  {
   "cell_type": "markdown",
   "metadata": {},
   "source": [
    "#### a)"
   ]
  },
  {
   "cell_type": "code",
   "execution_count": null,
   "metadata": {},
   "outputs": [],
   "source": [
    "Q63. When reading a file using the file object, what method is best for   reading the entire file into a single string? \n",
    "a) .read_file_to_str() b) .read() c) .readlines() d) .readline() "
   ]
  },
  {
   "cell_type": "markdown",
   "metadata": {},
   "source": [
    "#### b) .read()"
   ]
  },
  {
   "cell_type": "code",
   "execution_count": null,
   "metadata": {},
   "outputs": [],
   "source": [
    "Q64.  The value 1.73 rounded to one decimal place using the “rounding   up” strategy is… a) 1.8 b) 1.7 "
   ]
  },
  {
   "cell_type": "markdown",
   "metadata": {},
   "source": [
    "#### a) 1.8"
   ]
  },
  {
   "cell_type": "code",
   "execution_count": null,
   "metadata": {},
   "outputs": [],
   "source": [
    "Q65. The value -2.961 rounded to two decimal places using the   “rounding down” strategy is… a) -2.96 b) -2.97 "
   ]
  },
  {
   "cell_type": "markdown",
   "metadata": {},
   "source": [
    "#### b) -2.97 "
   ]
  },
  {
   "cell_type": "code",
   "execution_count": null,
   "metadata": {},
   "outputs": [],
   "source": [
    "Q66. When a value is truncated to 3 decimal places, which of the   following is true? a) Positive numbers are rounded up,\n",
    "and negative numbers are rounded down. b) Positive numbers are rounded down, and negative numbers are rounded up.\n",
    "c) Both positive and negative numbers are rounded up. d) Both positive and negative numbers are rounded down. "
   ]
  },
  {
   "cell_type": "markdown",
   "metadata": {},
   "source": [
    "#### b) Positive numbers are rounded down, and negative numbers are rounded up"
   ]
  },
  {
   "cell_type": "code",
   "execution_count": null,
   "metadata": {},
   "outputs": [],
   "source": [
    "Q67. The value -0.045 rounded to 2 decimal places using the “round half   away from zero” strategy is… a) -0.05 b) -0.04"
   ]
  },
  {
   "cell_type": "markdown",
   "metadata": {},
   "source": [
    "#### a) -0.05"
   ]
  },
  {
   "cell_type": "code",
   "execution_count": null,
   "metadata": {},
   "outputs": [],
   "source": [
    "Q68. Which rounding strategy does Python’s built-in round() function   use? a) Round half down b) Round half away from zero \n",
    "c) Round half up d) Round half to even "
   ]
  },
  {
   "cell_type": "markdown",
   "metadata": {},
   "source": [
    "#### d) Round half to even "
   ]
  },
  {
   "cell_type": "code",
   "execution_count": null,
   "metadata": {},
   "outputs": [],
   "source": [
    "Q69. The value 4.65 rounded to one decimal place using the “round half   to even” strategy is… a) 4.6 b) 4.7 "
   ]
  },
  {
   "cell_type": "markdown",
   "metadata": {},
   "source": [
    "#### a) 4.6 "
   ]
  },
  {
   "cell_type": "code",
   "execution_count": null,
   "metadata": {},
   "outputs": [],
   "source": [
    "Q70. Which problem arises due to the multiple inheritances, if   hierarchical inheritance is used previously for its base \n",
    "classes?    a) Diamond b) Circle c) Triangle d) Loop  "
   ]
  },
  {
   "cell_type": "markdown",
   "metadata": {},
   "source": [
    "#### a) Diamond"
   ]
  },
  {
   "cell_type": "code",
   "execution_count": null,
   "metadata": {},
   "outputs": [],
   "source": [
    "Q71.  How many classes should a program contain to implement the  multiple inheritances? \n",
    "a) Only 1 b) At least 1 c) At least 3 d) Exactly 3 "
   ]
  },
  {
   "cell_type": "markdown",
   "metadata": {},
   "source": [
    "#### c) At least 3"
   ]
  },
  {
   "cell_type": "code",
   "execution_count": null,
   "metadata": {},
   "outputs": [],
   "source": [
    "Q72. If class a inherits class b and class c as “class a: public class b,  public class c {// class body ;}; ”, which class\n",
    "constructor will be  called first? \n",
    "a) Class a. b) Class b. c)  Class c. d)  All together. "
   ]
  },
  {
   "cell_type": "markdown",
   "metadata": {},
   "source": [
    "#### b) Class b"
   ]
  },
  {
   "cell_type": "code",
   "execution_count": null,
   "metadata": {},
   "outputs": [],
   "source": [
    "Q73.If all the members of all  base classes are private then, \n",
    "a) There won’t be any use of multiple inheritance b)  It will make all members as public. c) Derived class can still access \n",
    "them in the multiple inheritance d) Compile-time error Q74"
   ]
  },
  {
   "cell_type": "markdown",
   "metadata": {},
   "source": [
    "#### a) There won’t be any use of multiple inheritance"
   ]
  },
  {
   "cell_type": "code",
   "execution_count": null,
   "metadata": {},
   "outputs": [],
   "source": [
    "Q74. Can the derived class be made abstract if multiple inheritance is  used?\n",
    "a) No, because other classes must be abstract too b) Yes, if all the functions are implemented \n",
    "c) Yes, if all the methods are predefined d) No, since constructors won’t be there "
   ]
  },
  {
   "cell_type": "markdown",
   "metadata": {},
   "source": [
    "#### d) No, since constructors won’t be there "
   ]
  },
  {
   "cell_type": "code",
   "execution_count": null,
   "metadata": {},
   "outputs": [],
   "source": [
    "Q75. Which among the following best defines the multilevel inheritance? \n",
    "a) A class derived from another derived class b) Classes being derived from other derived classes c) Continuing single level \n",
    "inheritance d) Class which have more than one parent "
   ]
  },
  {
   "cell_type": "markdown",
   "metadata": {},
   "source": [
    "#### b) Classes being derived from other derived classes "
   ]
  },
  {
   "cell_type": "code",
   "execution_count": null,
   "metadata": {},
   "outputs": [],
   "source": [
    "Q76. If there are 5 classes, E is derived from D, D from C, C from B and  B from A. Which class constructor will be called first if the object of  E or D is created? \n",
    "a) A b) B c) C d) A and B "
   ]
  },
  {
   "cell_type": "markdown",
   "metadata": {},
   "source": [
    "#### a) A"
   ]
  },
  {
   "cell_type": "code",
   "execution_count": null,
   "metadata": {},
   "outputs": [],
   "source": [
    "Q77. Which Class is having the highest degree of abstraction in   multilevel inheritance of 5 levels?   a) Class at 1st level \n",
    "b) Class 2nd last level c) Class at 5th level d) All with same abstraction "
   ]
  },
  {
   "cell_type": "markdown",
   "metadata": {},
   "source": [
    "#### a) Class at 1st level "
   ]
  },
  {
   "cell_type": "code",
   "execution_count": null,
   "metadata": {},
   "outputs": [],
   "source": [
    "Q78. Multilevel inheritance allows _________________ in the program. \n",
    "a) Only 7 levels of inheritance b) At least 7 levels of inheritance c) At most 16 levels of inheritance\n",
    "d) As many levels of inheritance as required "
   ]
  },
  {
   "cell_type": "markdown",
   "metadata": {},
   "source": [
    "#### d) As many levels of inheritance as required "
   ]
  },
  {
   "cell_type": "code",
   "execution_count": null,
   "metadata": {},
   "outputs": [],
   "source": [
    "Q79. If all the classes used parameterized constructors and no default  constructor then, ___________ \n",
    "a) The object of lower-level classes can’t be created b) Object of lower-level classes must call parent class constructors \n",
    "explicitly c) Object of lower-level classes must define all the default constructors d) Only object of first-class \n",
    "can be created, which is first-parent "
   ]
  },
  {
   "cell_type": "markdown",
   "metadata": {},
   "source": [
    "#### b) Object of lower-level classes must call parent class constructors explicitly"
   ]
  },
  {
   "cell_type": "code",
   "execution_count": null,
   "metadata": {},
   "outputs": [],
   "source": [
    "Q80. Which is the universal exception handler class? \n",
    "a) Object b) Math c) Errors d) Exceptions "
   ]
  },
  {
   "cell_type": "markdown",
   "metadata": {},
   "source": [
    "#### d) Exceptions "
   ]
  },
  {
   "cell_type": "code",
   "execution_count": null,
   "metadata": {},
   "outputs": [],
   "source": [
    "Q81. What are two exception classes in the hierarchy of java exceptions  class? \n",
    "a) Runtime exceptions only b) Compile-time exceptions only c) Runtime exceptions and other exceptions d) Other exceptions "
   ]
  },
  {
   "cell_type": "markdown",
   "metadata": {},
   "source": [
    "#### c) Runtime exceptions and other exceptions"
   ]
  },
  {
   "cell_type": "code",
   "execution_count": null,
   "metadata": {},
   "outputs": [],
   "source": [
    "Q82.  Which are the two blocks that are used to check error and handle  the error? \n",
    " \n",
    "a) Try and catch b) Trying and catching c) Do and while d) TryDo and Check "
   ]
  },
  {
   "cell_type": "markdown",
   "metadata": {},
   "source": [
    "#### a) Try and catch"
   ]
  },
  {
   "cell_type": "code",
   "execution_count": null,
   "metadata": {},
   "outputs": [],
   "source": [
    "Q83. To catch the exceptions ___________________ \n",
    "a) An object must be created to catch the exception b) A variable should be created to catch the exception \n",
    "c) An array should be created to catch all the exceptions d) A string has to be created to store exception "
   ]
  },
  {
   "cell_type": "markdown",
   "metadata": {},
   "source": [
    "#### a) An object must be created to catch the exception"
   ]
  },
  {
   "cell_type": "code",
   "execution_count": null,
   "metadata": {},
   "outputs": [],
   "source": [
    "Q84. Which class is used to handle the input and output exceptions? \n",
    "a) InputOutput b) InputOutputExceptions c) IOExceptions d) ExceptionsIO "
   ]
  },
  {
   "cell_type": "markdown",
   "metadata": {},
   "source": [
    "#### c) IOExceptions "
   ]
  },
  {
   "cell_type": "code",
   "execution_count": null,
   "metadata": {},
   "outputs": [],
   "source": [
    "Q85. Which among the following is true for the class exceptions? \n",
    "a) Only base class can give rise to the exceptions b) Only derived class can give rise to exceptions\n",
    "c) Either base or derived class may produce exceptions d) Both base class and derived class may produce exceptions "
   ]
  },
  {
   "cell_type": "markdown",
   "metadata": {},
   "source": [
    "#### d) Both base class and derived class may produce exceptions "
   ]
  },
  {
   "cell_type": "code",
   "execution_count": null,
   "metadata": {},
   "outputs": [],
   "source": [
    "Q86. If both base and derived class caught the exceptions, _____. \n",
    "a) Then catch block of a derived class must be defined before the base class b) Then catch block of the base class must \n",
    "be defined before the derived class c) Then catch block of base and derived classes don't matter. d) catch block of the base\n",
    "and derived classes are not mandatory to be defined "
   ]
  },
  {
   "cell_type": "markdown",
   "metadata": {},
   "source": [
    "#### a) Then catch block of a derived class must be defined before the base class"
   ]
  },
  {
   "cell_type": "code",
   "execution_count": null,
   "metadata": {},
   "outputs": [],
   "source": [
    "Q87.  The catching of base class the exception _________ in java. \n",
    "a) After derived class is not allowed by the compiler b) Before derived class is not allowed by the compiler \n",
    "c) Before derived class is allowed d) After derived class can’t be done "
   ]
  },
  {
   "cell_type": "markdown",
   "metadata": {},
   "source": [
    "#### b) Before derived class is not allowed by the compiler "
   ]
  },
  {
   "cell_type": "code",
   "execution_count": null,
   "metadata": {},
   "outputs": [],
   "source": [
    "Q88.  Which of the following handles the undefined class in the  program? \n",
    "a) ClassNotFound b) NoClassException c) ClassFoundException d) ClassNotFoundException "
   ]
  },
  {
   "cell_type": "markdown",
   "metadata": {},
   "source": [
    "#### d) ClassNotFoundException "
   ]
  },
  {
   "cell_type": "code",
   "execution_count": null,
   "metadata": {},
   "outputs": [],
   "source": [
    "Q89. Which among the following is true?  \n",
    "a) Only the base class catch the blocks are important. b) Only the derived class catch blocks are important.\n",
    "c) Both the base and derived class catch the blocks are important. \n",
    "d) If the base and derived classes both produce exceptions, the program doesn’t run.   "
   ]
  },
  {
   "cell_type": "markdown",
   "metadata": {},
   "source": [
    "#### c) Both the base and derived class catch the blocks are important"
   ]
  },
  {
   "cell_type": "code",
   "execution_count": null,
   "metadata": {},
   "outputs": [],
   "source": [
    "Q90. Which condition among the following might result in memory  exception?  \n",
    "a) False if conditions b) Nested if conditions that are all false c) Infinite loops d) The loop that runs exactly 99 times "
   ]
  },
  {
   "cell_type": "markdown",
   "metadata": {},
   "source": [
    "#### c) Infinite loops "
   ]
  },
  {
   "cell_type": "code",
   "execution_count": null,
   "metadata": {},
   "outputs": [],
   "source": [
    "Q91. Which among the following is the correct definition for static   member functions?  \n",
    "a) Functions created to allocate the constant values to each object b) Functions made to maintain a single \n",
    "copy of member functions for all the objects c) Functions created to define the static members \n",
    "d) Functions made to manipulate the static programs "
   ]
  },
  {
   "cell_type": "markdown",
   "metadata": {},
   "source": [
    "#### b) Functions made to maintain a single copy of member functions for all the objects"
   ]
  },
  {
   "cell_type": "code",
   "execution_count": null,
   "metadata": {},
   "outputs": [],
   "source": [
    "Q92. The static member functions __________________  \n",
    "a) Having access to all the members of the class. b) Having access to only constant members of a class. \n",
    "c) Having access to only the static members of a class. d) Having direct access to all other class members also. "
   ]
  },
  {
   "cell_type": "markdown",
   "metadata": {},
   "source": [
    "#### c) Having access to only the static members of a class"
   ]
  },
  {
   "cell_type": "code",
   "execution_count": null,
   "metadata": {},
   "outputs": [],
   "source": [
    "Q93. Which is the correct syntax to access the static member functions   with a class name?  \n",
    "a) className . functionName; b) className -> functionName; c) className : functionName; d) className :: functionName;"
   ]
  },
  {
   "cell_type": "markdown",
   "metadata": {},
   "source": [
    "#### d) className :: functionName"
   ]
  },
  {
   "cell_type": "code",
   "execution_count": null,
   "metadata": {},
   "outputs": [],
   "source": [
    "Q94. The static members are ______________________        a) Created with each new object. b) Created twice in the program.\n",
    "c) Created as many times, the class is being used. d)  Created and initialised, only once "
   ]
  },
  {
   "cell_type": "markdown",
   "metadata": {},
   "source": [
    "#### d)  Created and initialised, only once"
   ]
  },
  {
   "cell_type": "code",
   "execution_count": null,
   "metadata": {},
   "outputs": [],
   "source": [
    "Q95. Which among the following is true?  \n",
    "a) Static member functions can be overloaded. b) Static member functions can’t be overloaded. \n",
    "c) Static member functions can be overloaded using the derived classes. d) Static member functions are implicitly overloaded.  "
   ]
  },
  {
   "cell_type": "markdown",
   "metadata": {},
   "source": [
    "#### b) Static member functions can’t be overloaded"
   ]
  },
  {
   "cell_type": "code",
   "execution_count": null,
   "metadata": {},
   "outputs": [],
   "source": [
    "Q96. The static member functions _______________  \n",
    "a) Can’t be declared const. b) Can’t be declared volatile. c) Can’t be declared const or volatile.\n",
    "d) Can’t be declared const, volatile, or constant volatile. "
   ]
  },
  {
   "cell_type": "markdown",
   "metadata": {},
   "source": [
    "#### d) Can’t be declared const, volatile, or constant volatile. "
   ]
  },
  {
   "cell_type": "code",
   "execution_count": null,
   "metadata": {},
   "outputs": [],
   "source": [
    "Q97. Which among the following can’t be used to access the members in anyway?  \n",
    "a) Scope resolution. b) Arrow operator. c) Single colon. d) Dot operator. "
   ]
  },
  {
   "cell_type": "markdown",
   "metadata": {},
   "source": [
    "#### c) Single colon"
   ]
  },
  {
   "cell_type": "code",
   "execution_count": null,
   "metadata": {},
   "outputs": [],
   "source": [
    "Q98. If static data member are made inline, ______________  \n",
    "a) Those should be initialised outside of the class. b) Those can’t be initialised with the class. \n",
    "c) Those can be initialised within the class. d) Class members can't use those. "
   ]
  },
  {
   "cell_type": "markdown",
   "metadata": {},
   "source": [
    "#### c) Those can be initialised within the class"
   ]
  },
  {
   "cell_type": "code",
   "execution_count": null,
   "metadata": {},
   "outputs": [],
   "source": [
    "Q99. The static data member ___    a) It can be mutable. b) Can’t be mutable. c) Can’t be an integer. d) Can’t be characters.   "
   ]
  },
  {
   "cell_type": "markdown",
   "metadata": {},
   "source": [
    "#### b) Can’t be mutable"
   ]
  },
  {
   "cell_type": "code",
   "execution_count": null,
   "metadata": {},
   "outputs": [],
   "source": [
    "Q100. We can use the static member functions and static data member __________________.  \n",
    "a) Even if a class object is not created b) Even if a class is not defined\n",
    "c) Even if a class doesn’t contain any static member d) Even if a class doesn’t have a complete definition "
   ]
  },
  {
   "cell_type": "markdown",
   "metadata": {},
   "source": [
    "#### a) Even if a class object is not created"
   ]
  },
  {
   "cell_type": "code",
   "execution_count": null,
   "metadata": {},
   "outputs": [],
   "source": [
    "Q101. Point out the wrong statement:  \n",
    "a)  ipython is an enhanced interactive python shell. b)  Matplotlib: It enables us to plot graphics. \n",
    "c)   rPy provides lots of scientific routines that work on top of NumPy. d)   all of the mentioned. "
   ]
  },
  {
   "cell_type": "markdown",
   "metadata": {},
   "source": [
    "#### c)   rPy provides lots of scientific routines that work on top of NumPy"
   ]
  },
  {
   "cell_type": "code",
   "execution_count": null,
   "metadata": {},
   "outputs": [],
   "source": [
    "Q102.  The ______function returns its argument with the modified shape, whereas the ________ method modifies the array itself.  \n",
    "a) reshape, resize. b) resize, reshape. c) reshape2,resize. d) all of the mentioned. "
   ]
  },
  {
   "cell_type": "markdown",
   "metadata": {},
   "source": [
    "#### a) reshape, resize"
   ]
  },
  {
   "cell_type": "code",
   "execution_count": null,
   "metadata": {},
   "outputs": [],
   "source": [
    "Q103. To create sequences of the numbers, NumPy provides a function __________ analogous to range that returns arrays instead of lists.  \n",
    "a) arrange. b) aspace. c) aline. d) all of the mentioned. "
   ]
  },
  {
   "cell_type": "markdown",
   "metadata": {},
   "source": [
    "#### a) arrange"
   ]
  },
  {
   "cell_type": "code",
   "execution_count": null,
   "metadata": {},
   "outputs": [],
   "source": [
    "Q104.  Point out the correct statement:  \n",
    "a)  NumPy main object is the Homogeneous -Multidimensional array. b)  In Numpy, dimensions are called axes. \n",
    "c)  Numpy array class is called ndarray. d)  All of the Mentioned"
   ]
  },
  {
   "cell_type": "markdown",
   "metadata": {},
   "source": [
    " #### d)  All of the Mentioned"
   ]
  },
  {
   "cell_type": "code",
   "execution_count": null,
   "metadata": {},
   "outputs": [],
   "source": [
    "Q105. Which of the following function stack 1D array as the   columns into the 2D array?   \n",
    "a) row_stack. b) column_stack. c) com_stack. d) all of the mentioned. "
   ]
  },
  {
   "cell_type": "markdown",
   "metadata": {},
   "source": [
    "#### b) column_stack"
   ]
  },
  {
   "cell_type": "code",
   "execution_count": null,
   "metadata": {},
   "outputs": [],
   "source": [
    "Q106.  ndarray is also known as an alias array.  \n",
    "a) True b) False "
   ]
  },
  {
   "cell_type": "markdown",
   "metadata": {},
   "source": [
    "#### a) True"
   ]
  },
  {
   "cell_type": "code",
   "execution_count": null,
   "metadata": {},
   "outputs": [],
   "source": [
    "Q107. Which of the following method creates the new array object that  looks at the same data?  \n",
    "a)  view. b)  copy. c)  paste. d) all of the mentioned. "
   ]
  },
  {
   "cell_type": "markdown",
   "metadata": {},
   "source": [
    "#### a)  view"
   ]
  },
  {
   "cell_type": "code",
   "execution_count": null,
   "metadata": {},
   "outputs": [],
   "source": [
    "Q108. Which of the functions can be used to combine the   different vectors to obtain the result for each n-uplet?  \n",
    "a) iid_. b) ix_. c) ixd_. d) all of the mentioned"
   ]
  },
  {
   "cell_type": "markdown",
   "metadata": {},
   "source": [
    "#### b) ix_."
   ]
  },
  {
   "cell_type": "code",
   "execution_count": null,
   "metadata": {},
   "outputs": [],
   "source": [
    "Q109. ndarray.dataitemSize is the buffer containing actual   elements  of an array.  \n",
    "a) True b) False "
   ]
  },
  {
   "cell_type": "markdown",
   "metadata": {},
   "source": [
    "#### a) True"
   ]
  },
  {
   "cell_type": "code",
   "execution_count": null,
   "metadata": {},
   "outputs": [],
   "source": [
    "Q110. Which of the following is in the NumPy library? a) The n-dimensional array object\n",
    "b) The tools for  integrating C/C++ and the Fortran code c) Fourier transform d) all of the Mentioned "
   ]
  },
  {
   "cell_type": "markdown",
   "metadata": {},
   "source": [
    "#### d) all of the Mentioned "
   ]
  },
  {
   "cell_type": "code",
   "execution_count": null,
   "metadata": {},
   "outputs": [],
   "source": [
    "Q111. Which of the following sets the size of the buffer used in ufuncs ?  \n",
    "a) bufsize(size) b) setsize(size) c) setbufsize(size) d) all of the Mentioned "
   ]
  },
  {
   "cell_type": "markdown",
   "metadata": {},
   "source": [
    "#### c) setbufsize(size)"
   ]
  },
  {
   "cell_type": "code",
   "execution_count": null,
   "metadata": {},
   "outputs": [],
   "source": [
    "Q112. Point out the wrong statement:  \n",
    "a) A universal function is the function that operates upon the “ndarrays” in an element-by-element fashion \n",
    "b) In Numpy, universal functions are the instances of numpy.ufunction class \n",
    "c) Many of the built-in functions are implemented in compiled C code d) All of the Mentioned "
   ]
  },
  {
   "cell_type": "markdown",
   "metadata": {},
   "source": [
    "#### b) In Numpy, universal functions are the instances of numpy.ufunction class "
   ]
  },
  {
   "cell_type": "code",
   "execution_count": null,
   "metadata": {},
   "outputs": [],
   "source": [
    "Q113. Which of the following attribute should be used while checking the  type combination input and output?  \n",
    "a) .types b) .type c) .class d) all of the Mentioned "
   ]
  },
  {
   "cell_type": "markdown",
   "metadata": {},
   "source": [
    "#### a) .types"
   ]
  },
  {
   "cell_type": "code",
   "execution_count": null,
   "metadata": {},
   "outputs": [],
   "source": [
    "Q114. Which of the following returns an array of “ones” with the same  shape and type as a given array?  \n",
    "a) all_like b) ones_like c) one_alike d) all of the Mentioned "
   ]
  },
  {
   "cell_type": "markdown",
   "metadata": {},
   "source": [
    "#### b) ones_like"
   ]
  },
  {
   "cell_type": "code",
   "execution_count": null,
   "metadata": {},
   "outputs": [],
   "source": [
    "Q115. Point out the wrong statement:  \n",
    "a) Each universal function takes an array input and produces array outputs\n",
    "b) Broadcasting is used throughout NumPy to decide how to handle the disparately \n",
    "shaped arrays c) The output of the ufunc is necessarily a ndarray, if all the input arguments are ndarrays\n",
    "d) All of the Mentioned"
   ]
  },
  {
   "cell_type": "markdown",
   "metadata": {},
   "source": [
    "#### c) The output of the ufunc is necessarily a ndarray, if all the input arguments are ndarrays"
   ]
  },
  {
   "cell_type": "code",
   "execution_count": null,
   "metadata": {},
   "outputs": [],
   "source": [
    "Q116. Which of the following set of a floating-point error callback   function or a log object?    \n",
    "a) setter. b) settercall. c) setterstack. d) all of the mentioned. "
   ]
  },
  {
   "cell_type": "markdown",
   "metadata": {},
   "source": [
    "#### b) settercall"
   ]
  },
  {
   "cell_type": "code",
   "execution_count": null,
   "metadata": {},
   "outputs": [],
   "source": [
    "Q117. Some ufuncs can take output arguments.  \n",
    "a) True b) False "
   ]
  },
  {
   "cell_type": "markdown",
   "metadata": {},
   "source": [
    " #### b) False "
   ]
  },
  {
   "cell_type": "code",
   "execution_count": null,
   "metadata": {},
   "outputs": [],
   "source": [
    "Q118. ___________ decompose the elements of x into the   mantissa and the two’s exponent.  \n",
    "a) trunc b) fmod c) frexp d) ldexp"
   ]
  },
  {
   "cell_type": "markdown",
   "metadata": {},
   "source": [
    "#### c) frexp "
   ]
  },
  {
   "cell_type": "code",
   "execution_count": null,
   "metadata": {},
   "outputs": [],
   "source": [
    "Q119. Which of the following function take the only a single value as input?  \n",
    "a) iscomplex. b) minimum. c) fmin. d) all of the mentioned. "
   ]
  },
  {
   "cell_type": "markdown",
   "metadata": {},
   "source": [
    "#### a) iscomplex"
   ]
  },
  {
   "cell_type": "code",
   "execution_count": null,
   "metadata": {},
   "outputs": [],
   "source": [
    "Q120. The array object returned by the _array_prepare_ is passed to ufunc for computation.  \n",
    "a) True b) False "
   ]
  },
  {
   "cell_type": "markdown",
   "metadata": {},
   "source": [
    "#### a) True"
   ]
  },
  {
   "cell_type": "code",
   "execution_count": null,
   "metadata": {},
   "outputs": [],
   "source": [
    "Q121. All pandas data structures are ___mutable but not always  _______-mutable. a)  size,value. b) semantic,size. \n",
    "c) value,size. d) none of the mentioned. "
   ]
  },
  {
   "cell_type": "markdown",
   "metadata": {},
   "source": [
    "#### c) value,size"
   ]
  },
  {
   "cell_type": "code",
   "execution_count": null,
   "metadata": {},
   "outputs": [],
   "source": [
    "Q122.  Point out the correct statement:  \n",
    "a) Pandas consist of a set of the labelled array data structures b) Pandas consist of an integrated group by the engine \n",
    "for aggregating and the transforming data sets c) Pandas consist of moving window statistics d) All of the above mentioned. "
   ]
  },
  {
   "cell_type": "markdown",
   "metadata": {},
   "source": [
    "#### d) All of the above mentioned"
   ]
  },
  {
   "cell_type": "code",
   "execution_count": null,
   "metadata": {},
   "outputs": [],
   "source": [
    "Q123. Which of the following statement will import the pandas?  \n",
    "a) import pandas as pd b) import panda as py c) import pandaspy as pd d) all of the Mentioned "
   ]
  },
  {
   "cell_type": "markdown",
   "metadata": {},
   "source": [
    "#### a) import pandas as pd"
   ]
  },
  {
   "cell_type": "code",
   "execution_count": null,
   "metadata": {},
   "outputs": [],
   "source": [
    "Q124. Which of the following object did we get after reading the CSV file?  \n",
    "a) DataFrame. b) Character Vector. c) Panel. d) All of the Mentioned "
   ]
  },
  {
   "cell_type": "markdown",
   "metadata": {},
   "source": [
    "#### a) DataFrame"
   ]
  },
  {
   "cell_type": "code",
   "execution_count": null,
   "metadata": {},
   "outputs": [],
   "source": [
    "Q125. Point out the wrong statement:  \n",
    "a) Series is 1D labelled homogeneously-typed array. b) DataFrame is a general 2D labelled, size-mutable tabular structure \n",
    "with the potentially heterogeneously-typed columns.\n",
    "c) The panel is generally 2D labelled, also a size-mutable array. d) None of the Mentioned.   "
   ]
  },
  {
   "cell_type": "markdown",
   "metadata": {},
   "source": [
    "#### c) The panel is generally 2D labelled, also a size-mutable array. "
   ]
  },
  {
   "cell_type": "code",
   "execution_count": null,
   "metadata": {},
   "outputs": [],
   "source": [
    "Q126. Which of the following library is similar to the pandas? a)  numpy. b)  RPy. c)  OutPy. d)  None of the mentioned"
   ]
  },
  {
   "cell_type": "markdown",
   "metadata": {},
   "source": [
    "#### a)  numpy"
   ]
  },
  {
   "cell_type": "code",
   "execution_count": null,
   "metadata": {},
   "outputs": [],
   "source": [
    "Q127. Panel is a container for the Series, and DataFrame is a container for DataFrame objects.  \n",
    "a) True b) False "
   ]
  },
  {
   "cell_type": "markdown",
   "metadata": {},
   "source": [
    "#### b) False "
   ]
  },
  {
   "cell_type": "code",
   "execution_count": null,
   "metadata": {},
   "outputs": [],
   "source": [
    "Q128. Which of the following is the prominent python “statistics and  econometrics library”?  \n",
    "a) Bokeh. b) Seaborn. c) Statsmodels. d) None of the mentioned. "
   ]
  },
  {
   "cell_type": "markdown",
   "metadata": {},
   "source": [
    "#### c) Statsmodels"
   ]
  },
  {
   "cell_type": "code",
   "execution_count": null,
   "metadata": {},
   "outputs": [],
   "source": [
    "Q129. Which of the following is the foundational exploratory visualisation package for the R language in the pandas ecosystem?  \n",
    "a) yhat. b) Seaborn. c) Vincent. d) None of the mentioned. "
   ]
  },
  {
   "cell_type": "markdown",
   "metadata": {},
   "source": [
    "#### a) yhat"
   ]
  },
  {
   "cell_type": "code",
   "execution_count": null,
   "metadata": {},
   "outputs": [],
   "source": [
    "Q130. Pandas consist of static and the moving window linear and panel  regression.  \n",
    "a) True b) False "
   ]
  },
  {
   "cell_type": "markdown",
   "metadata": {},
   "source": [
    "#### a) True"
   ]
  },
  {
   "cell_type": "code",
   "execution_count": null,
   "metadata": {},
   "outputs": [],
   "source": [
    "Q131. Quandl API for Python wraps the __ REST API to   returns the pandas DataFrames with time series indexes.  \n",
    "a) Quandl. b) PyDatastream. c) PyData. d) None of the Mentioned.  "
   ]
  },
  {
   "cell_type": "markdown",
   "metadata": {},
   "source": [
    "#### a) Quandl"
   ]
  },
  {
   "cell_type": "code",
   "execution_count": null,
   "metadata": {},
   "outputs": [],
   "source": [
    "Q132. Point out the correct statement:  \n",
    "a) Statsmodels provides powerful statistics, econometrics, analysis and the modelling functionality which is out of\n",
    "pandas’ scope b) Vintage leverages pandas objects as an underlying data container for the computation \n",
    "c) Bokeh is a Python interactive visualisation library for the small datasets d) All of the Mentioned "
   ]
  },
  {
   "cell_type": "markdown",
   "metadata": {},
   "source": [
    "#### a) Statsmodels provides powerful statistics, econometrics, analysis and the modelling functionality which is out of pandas’ scope"
   ]
  },
  {
   "cell_type": "code",
   "execution_count": null,
   "metadata": {},
   "outputs": [],
   "source": [
    "Q133.Which of the following library is used to retrieve and to acquire statistical data and metadata disseminated in SDMX 2.1?  \n",
    "a) pandaSDMX b) freedapi c) Geopandas. d) All of the Mentioned. "
   ]
  },
  {
   "cell_type": "markdown",
   "metadata": {},
   "source": [
    "#### a) pandaSDMX "
   ]
  },
  {
   "cell_type": "code",
   "execution_count": null,
   "metadata": {},
   "outputs": [],
   "source": [
    "Q134. Which of the following provides the standard API for doing   computations with MongoDB?  \n",
    "a) Blaze. b) Geopandas. c) FRED. d) All of the Mentioned. "
   ]
  },
  {
   "cell_type": "markdown",
   "metadata": {},
   "source": [
    "#### a) Blaze"
   ]
  },
  {
   "cell_type": "code",
   "execution_count": null,
   "metadata": {},
   "outputs": [],
   "source": [
    "Q135. Point out the wrong statement:  \n",
    "a) qgrid is an interactive grid for sorting and the filtering DataFrames \n",
    "b) Pandas DataFrames implement _repr_html_ methods which are utilised by the IPython Notebook \n",
    "c) Spyder is a cross-platform Qt-based open-source R IDE d) None of the Mentioned "
   ]
  },
  {
   "cell_type": "markdown",
   "metadata": {},
   "source": [
    "#### c) Spyder is a cross-platform Qt-based open-source R IDE"
   ]
  },
  {
   "cell_type": "code",
   "execution_count": null,
   "metadata": {},
   "outputs": [],
   "source": [
    "Q136. Which of the following makes use of the pandas and returns data in a Series or DataFrame?   \n",
    "a) pandaSDMX. b) freedapi. c) OutPy. d) none of the mentioned. "
   ]
  },
  {
   "cell_type": "markdown",
   "metadata": {},
   "source": [
    "#### b) freedapi"
   ]
  },
  {
   "cell_type": "code",
   "execution_count": null,
   "metadata": {},
   "outputs": [],
   "source": [
    "Q137. Spyder can introspect and display Pandas DataFrames.  \n",
    "a) True b) False "
   ]
  },
  {
   "cell_type": "markdown",
   "metadata": {},
   "source": [
    "#### b) False "
   ]
  },
  {
   "cell_type": "code",
   "execution_count": null,
   "metadata": {},
   "outputs": [],
   "source": [
    "Q138. Which of the following is used for machine learning in the python?  \n",
    "a) sci-kit-learn. b) seaborn-learn. c) stats-learn. d) none of the mentioned. "
   ]
  },
  {
   "cell_type": "markdown",
   "metadata": {},
   "source": [
    "#### a) sci-kit-learn"
   ]
  },
  {
   "cell_type": "code",
   "execution_count": null,
   "metadata": {},
   "outputs": [],
   "source": [
    "Q139. The ________ project builds on top of the pandas and matplotlib   to provide easy plotting of data.   \n",
    "a) yhat. b) Seaborn. c) Vincent. d) None of the mentioned. "
   ]
  },
  {
   "cell_type": "markdown",
   "metadata": {},
   "source": [
    "#### b) Seaborn"
   ]
  },
  {
   "cell_type": "code",
   "execution_count": null,
   "metadata": {},
   "outputs": [],
   "source": [
    "Q140 x-ray brings the labelled data power of pandas to the physical  sciences.  \n",
    "a) True b) False "
   ]
  },
  {
   "cell_type": "markdown",
   "metadata": {},
   "source": [
    "#### a) True"
   ]
  },
  {
   "cell_type": "code",
   "execution_count": null,
   "metadata": {},
   "outputs": [],
   "source": [
    "Q141. Which of the following is the base layer of all of the sparse   has it indexed data structures?  \n",
    "a) SArray. b) SparseArray. c) PyArray. d) None of the mentioned."
   ]
  },
  {
   "cell_type": "markdown",
   "metadata": {},
   "source": [
    "#### b) SparseArray"
   ]
  },
  {
   "cell_type": "code",
   "execution_count": null,
   "metadata": {},
   "outputs": [],
   "source": [
    "Q142.  Point out the correct statement.  \n",
    "a) All of the standard pandas data structures have to_sparse method \n",
    "b) Any sparse object can be converted back to the standard dense form by calling the to_dense\n",
    "c) The sparse objects exist for memory efficiency reasons.\n",
    "d) All of the mentioned. "
   ]
  },
  {
   "cell_type": "markdown",
   "metadata": {},
   "source": [
    "#### d) All of the mentioned"
   ]
  },
  {
   "cell_type": "code",
   "execution_count": null,
   "metadata": {},
   "outputs": [],
   "source": [
    "Q143. Which of the following is not an indexed object?  \n",
    "a) SparseSeries. b) SparseDataFrame. c) SparsePanel. d) None of the mentioned"
   ]
  },
  {
   "cell_type": "markdown",
   "metadata": {},
   "source": [
    "#### d) None of the mentioned"
   ]
  },
  {
   "cell_type": "code",
   "execution_count": null,
   "metadata": {},
   "outputs": [],
   "source": [
    "Q144. Which of the following list like data structure is used for managing  the dynamic collection of SparseArrays?  \n",
    "a) SparseList. b) GeoList. c) SparseSeries. d) All of the mentioned. "
   ]
  },
  {
   "cell_type": "markdown",
   "metadata": {},
   "source": [
    "#### a) SparseList"
   ]
  },
  {
   "cell_type": "code",
   "execution_count": null,
   "metadata": {},
   "outputs": [],
   "source": [
    "Q145.  Point out the wrong statement.  \n",
    "a) to_array. append can accept scalar values or any 2-D sequence. b) Two kinds of SparseIndex are implemented. \n",
    "c) The integer format keeps an arrays of all locations, where the data are not equal to the fill value. \n",
    "d) None of the mentioned. "
   ]
  },
  {
   "cell_type": "markdown",
   "metadata": {},
   "source": [
    "#### a) to_array. append can accept scalar values or any 2-D sequence."
   ]
  },
  {
   "cell_type": "code",
   "execution_count": null,
   "metadata": {},
   "outputs": [],
   "source": [
    "Q146. Which of the following method used for transforming the   Sparse-series index by the MultiIndex to a   \n",
    "scipy.sparse.coo_matrix?  \n",
    "a) SparseSeries.to_coo(). b) Series.to_coo(). c) SparseSeries.to_cooser(). d) None of the mentioned. "
   ]
  },
  {
   "cell_type": "markdown",
   "metadata": {},
   "source": [
    "#### a) SparseSeries.to_coo"
   ]
  },
  {
   "cell_type": "code",
   "execution_count": null,
   "metadata": {},
   "outputs": [],
   "source": [
    "Q147. The integer format tracks only the locations and the sizes of   blocks of data.  \n",
    "a) True b) False"
   ]
  },
  {
   "cell_type": "markdown",
   "metadata": {},
   "source": [
    "#### b) False"
   ]
  },
  {
   "cell_type": "code",
   "execution_count": null,
   "metadata": {},
   "outputs": [],
   "source": [
    "Q148. Which of the following is used for the testing for membership in   the list of column names?   \n",
    "a) in. b) out. c) else if. d) none of the mentioned"
   ]
  },
  {
   "cell_type": "markdown",
   "metadata": {},
   "source": [
    "#### a) in"
   ]
  },
  {
   "cell_type": "code",
   "execution_count": null,
   "metadata": {},
   "outputs": [],
   "source": [
    "Q149. Which of the following indexing capabilities is used as the concise  means of selecting data from a pandas object?  \n",
    "a) In. b) ix. c) ipy. d) none of the mentioned. "
   ]
  },
  {
   "cell_type": "markdown",
   "metadata": {},
   "source": [
    "#### b) ix"
   ]
  },
  {
   "cell_type": "code",
   "execution_count": null,
   "metadata": {},
   "outputs": [],
   "source": [
    "Q150. Pandas follow the NumPy convention of raising an error when  you try to convert something to a bool.  \n",
    "a) True b) False "
   ]
  },
  {
   "cell_type": "markdown",
   "metadata": {},
   "source": [
    "#### a) True"
   ]
  },
  {
   "cell_type": "code",
   "execution_count": null,
   "metadata": {},
   "outputs": [],
   "source": []
  }
 ],
 "metadata": {
  "kernelspec": {
   "display_name": "Python 3",
   "language": "python",
   "name": "python3"
  },
  "language_info": {
   "codemirror_mode": {
    "name": "ipython",
    "version": 3
   },
   "file_extension": ".py",
   "mimetype": "text/x-python",
   "name": "python",
   "nbconvert_exporter": "python",
   "pygments_lexer": "ipython3",
   "version": "3.7.6"
  }
 },
 "nbformat": 4,
 "nbformat_minor": 4
}
