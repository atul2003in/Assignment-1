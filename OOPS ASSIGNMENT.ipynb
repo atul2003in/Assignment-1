{
 "cells": [
  {
   "cell_type": "markdown",
   "metadata": {},
   "source": [
    "## OOPS Assignment"
   ]
  },
  {
   "cell_type": "code",
   "execution_count": 5,
   "metadata": {},
   "outputs": [],
   "source": [
    "class Triangle:\n",
    "    def __init__(self, b, h):\n",
    "        self.b = b \n",
    "        self.h = h\n",
    "    def area(self):\n",
    "        return 0.5 * self.b * self.h\n",
    "\n",
    "class Sphere:\n",
    "    def __init__(self, r):\n",
    "        self.r = r\n",
    "    def area(self):\n",
    "        return 4 * 3.14 * self.r**2\n",
    "    \n",
    "class Common(Triangle,  Sphere):\n",
    "    def __init__(self, b, h, r):\n",
    "        Triangle.__init__(self, b, h)\n",
    "        Sphere.__init__(self, r)\n",
    "    def get_area(self, tri = True, sph = True):\n",
    "        if tri:\n",
    "            return Triangle.area(self)\n",
    "        else:\n",
    "            return Sphere.area(self)\n",
    "    "
   ]
  },
  {
   "cell_type": "code",
   "execution_count": 7,
   "metadata": {},
   "outputs": [
    {
     "name": "stdout",
     "output_type": "stream",
     "text": [
      "4.0\n"
     ]
    }
   ],
   "source": [
    "c = Common(2,4,3)\n",
    "print(c.get_area(tri = True , sph = False))"
   ]
  },
  {
   "cell_type": "code",
   "execution_count": 8,
   "metadata": {},
   "outputs": [
    {
     "name": "stdout",
     "output_type": "stream",
     "text": [
      "113.04\n"
     ]
    }
   ],
   "source": [
    "print(c.get_area(tri = False , sph = True))"
   ]
  },
  {
   "cell_type": "code",
   "execution_count": null,
   "metadata": {},
   "outputs": [],
   "source": []
  }
 ],
 "metadata": {
  "kernelspec": {
   "display_name": "Python 3",
   "language": "python",
   "name": "python3"
  },
  "language_info": {
   "codemirror_mode": {
    "name": "ipython",
    "version": 3
   },
   "file_extension": ".py",
   "mimetype": "text/x-python",
   "name": "python",
   "nbconvert_exporter": "python",
   "pygments_lexer": "ipython3",
   "version": "3.7.0"
  }
 },
 "nbformat": 4,
 "nbformat_minor": 2
}
