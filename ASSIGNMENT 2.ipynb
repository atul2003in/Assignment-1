{
 "cells": [
  {
   "cell_type": "markdown",
   "metadata": {},
   "source": [
    "#   ASSIGNMENT 2"
   ]
  },
  {
   "cell_type": "markdown",
   "metadata": {},
   "source": [
    "# Task 1"
   ]
  },
  {
   "cell_type": "markdown",
   "metadata": {},
   "source": [
    "### 1.1"
   ]
  },
  {
   "cell_type": "markdown",
   "metadata": {},
   "source": [
    " Write a python program to implement your own myreduce() function which works exactly \n",
    "like python's buit-in function reduce()"
   ]
  },
  {
   "cell_type": "code",
   "execution_count": 82,
   "metadata": {},
   "outputs": [
    {
     "name": "stdout",
     "output_type": "stream",
     "text": [
      "24\n"
     ]
    }
   ],
   "source": [
    "\n",
    "def prod_num(x,y):return x*y\n",
    "\n",
    "def my_reduce(func,lst):\n",
    "    prod = lst[0]\n",
    "    for i in lst:\n",
    "        prod = func(prod,i)\n",
    "    return prod\n",
    "print(my_reduce(prod_num,[1,2,3,4]))\n"
   ]
  },
  {
   "cell_type": "code",
   "execution_count": 39,
   "metadata": {},
   "outputs": [
    {
     "name": "stdout",
     "output_type": "stream",
     "text": [
      "10\n"
     ]
    }
   ],
   "source": [
    "def summ(x,y): return x + y\n",
    "\n",
    "def my_reduce(func,lst):\n",
    "    initial = 0\n",
    "    for i in lst:\n",
    "        initial = func(initial,i)\n",
    "    return initial\n",
    "print(my_reduce(summ,[1,2,3,4]))\n"
   ]
  },
  {
   "cell_type": "markdown",
   "metadata": {},
   "source": [
    "### 1.2"
   ]
  },
  {
   "cell_type": "markdown",
   "metadata": {},
   "source": [
    "Write a python program to implement your own myfilter() functionwhich works exactlylike pythons built-in function filter() "
   ]
  },
  {
   "cell_type": "code",
   "execution_count": 53,
   "metadata": {},
   "outputs": [
    {
     "name": "stdout",
     "output_type": "stream",
     "text": [
      "[6, 67, 87]\n"
     ]
    }
   ],
   "source": [
    "def ispositive(x):\n",
    "    if x <= 0:\n",
    "        return False\n",
    "    else:\n",
    "         return True\n",
    "\n",
    "\n",
    "def my_filter(func, my_list):\n",
    "    lst = []\n",
    "    for item in my_list:\n",
    "        if func(item):\n",
    "            lst.append(item)\n",
    "    return lst\n",
    "        \n",
    "print(my_filter(ispositive,[0,6,67,87,-1]))\n",
    "      \n"
   ]
  },
  {
   "cell_type": "markdown",
   "metadata": {},
   "source": [
    "# 2.0"
   ]
  },
  {
   "cell_type": "code",
   "execution_count": null,
   "metadata": {},
   "outputs": [],
   "source": [
    "Implement List comprehensions to produce the following lists.  \n",
    "Write List comprehensions to produce the following Lists  \n",
    "['A', 'C', 'A', 'D', 'G', 'I', ’L’, ‘ D’]  \n",
    "['x', 'xx', 'xxx', 'xxxx', 'y', 'yy', 'yyy', 'yyyy', 'z', 'zz', 'zzz', 'zzzz']  \n",
    "['x', 'y', 'z', 'xx', 'yy', 'zz', 'xxx', 'yyx', 'zzx', 'xxxx', 'yyyy', 'zzzz']  \n",
    "[[2], [3], [4], [3], [4], [5], [4], [5], [6]]  \n",
    "[[2, 3, 4, 5], [3, 4, 5, 6], [4, 5, 6, 7], [5, 6, 7, 8]]  \n",
    "[(1, 1), (2, 1), (3, 1), (1, 2), (2, 2), (3, 2), (1, 3), (2, 3), (3, 3)]   "
   ]
  },
  {
   "cell_type": "code",
   "execution_count": 37,
   "metadata": {},
   "outputs": [
    {
     "name": "stdout",
     "output_type": "stream",
     "text": [
      "['A', 'C', 'A', 'D', 'G', 'I', 'L', 'D']\n"
     ]
    }
   ],
   "source": [
    "lst  = 'ACADGILD'\n",
    "result = [i for i in lst]\n",
    "print(result)"
   ]
  },
  {
   "cell_type": "code",
   "execution_count": 11,
   "metadata": {},
   "outputs": [
    {
     "name": "stdout",
     "output_type": "stream",
     "text": [
      "['x', 'y', 'z', 'xx', 'yy', 'zz', 'xxx', 'yyy', 'zzz', 'xxxx', 'yyyy', 'zzzz']\n"
     ]
    }
   ],
   "source": [
    "lst2 = ['x','y','z']\n",
    "result = [ i * j for j in range(1, 5) for i in lst2]\n",
    "print(result)"
   ]
  },
  {
   "cell_type": "code",
   "execution_count": 95,
   "metadata": {},
   "outputs": [
    {
     "name": "stdout",
     "output_type": "stream",
     "text": [
      "[[2], [3], [4], [3], [4], [5], [4], [5], [6]]\n"
     ]
    }
   ],
   "source": [
    "lst4 = [2,3,4]\n",
    "result = [ [i + num] for i in lst4 for num in range(0,3)]\n",
    "print(result)"
   ]
  },
  {
   "cell_type": "code",
   "execution_count": 96,
   "metadata": {},
   "outputs": [
    {
     "name": "stdout",
     "output_type": "stream",
     "text": [
      "[[2, 3, 4, 5], [3, 4, 5, 6], [4, 5, 6, 7], [5, 6, 7, 8]]\n"
     ]
    }
   ],
   "source": [
    "lst5 = [2,3,4,5]\n",
    "result = [ [i + num  for i in lst5] for num in range(0,4)  ]\n",
    "print(result)"
   ]
  },
  {
   "cell_type": "code",
   "execution_count": 97,
   "metadata": {},
   "outputs": [
    {
     "name": "stdout",
     "output_type": "stream",
     "text": [
      "[(1, 1), (2, 1), (3, 1), (1, 2), (2, 2), (3, 2), (1, 3), (2, 3), (3, 3)]\n"
     ]
    }
   ],
   "source": [
    "lst6 = [1,2,3]\n",
    "result = [(b,a) for a in lst6 for b in lst6]\n",
    "print(result)"
   ]
  },
  {
   "cell_type": "markdown",
   "metadata": {},
   "source": [
    "### 3. Implement a function longestWord() that takes a list of words and returns the longest one.   "
   ]
  },
  {
   "cell_type": "code",
   "execution_count": 78,
   "metadata": {},
   "outputs": [
    {
     "name": "stdout",
     "output_type": "stream",
     "text": [
      "hjghghjhj\n",
      "hjghjhj\n"
     ]
    }
   ],
   "source": [
    "def longest_word(lst):\n",
    "    str1 = ''\n",
    "    lst1 = []\n",
    "    for i in lst:\n",
    "        if len(i) > len(str1):\n",
    "            lst1.append((len(i),i))\n",
    "            lst1.sort()\n",
    "    return lst1[-1][1]\n",
    "\n",
    "print(longest_word(['a','fhgfhg','hjhg','hjghghjhj','kj','jh']))\n",
    "print(longest_word(['a','fhghg','hjhg','hjghjhj','kjkjh','jh']))         "
   ]
  },
  {
   "cell_type": "markdown",
   "metadata": {},
   "source": [
    "## Task 2: "
   ]
  },
  {
   "cell_type": "markdown",
   "metadata": {},
   "source": [
    "### 1.1"
   ]
  },
  {
   "cell_type": "markdown",
   "metadata": {},
   "source": [
    "Write a Python Program(with class concepts) to find the area of the triangle using the below formula.  \n",
    "area = (s*(s-a)*(s-b)*(s-c)) ** 0.5  \n",
    "Function to take the length of the sides of triangle from user should be defined in the parent class and function\n",
    "to calculate the area should be defined in subclass. "
   ]
  },
  {
   "cell_type": "code",
   "execution_count": 51,
   "metadata": {},
   "outputs": [
    {
     "name": "stdout",
     "output_type": "stream",
     "text": [
      "59.81\n"
     ]
    }
   ],
   "source": [
    "class Triangle:\n",
    "    def __init__(self, a, b, c):\n",
    "        self.a = a\n",
    "        self.b = b\n",
    "        self.c = c\n",
    "\n",
    "class Area(Triangle):\n",
    "    def __init__(self,a,b,c):\n",
    "        Triangle.__init__(self,a,b,c)\n",
    "        \n",
    "    \n",
    "    def area(self):\n",
    "        s = (self.a + self.b + self.c)*0.5\n",
    "        return float(round((s*(s-self.a)*(s-self.b)*(s-self.c))**0.5, 2))\n",
    "\n",
    "triangle = Area(10,12,15)\n",
    "\n",
    "print(triangle.area())"
   ]
  },
  {
   "cell_type": "markdown",
   "metadata": {},
   "source": [
    "### 1.2"
   ]
  },
  {
   "cell_type": "markdown",
   "metadata": {},
   "source": [
    "Write a function filter_long_words() that takes a list of words and an integer n and returns the list of words \n",
    "that are longer than n.   "
   ]
  },
  {
   "cell_type": "code",
   "execution_count": 53,
   "metadata": {},
   "outputs": [
    {
     "name": "stdout",
     "output_type": "stream",
     "text": [
      "['Where', 'there', 'will', 'there']\n"
     ]
    }
   ],
   "source": [
    "def filter_long_words(str,n):\n",
    "    l = []\n",
    "    txt = str.split()\n",
    "    for i in txt:\n",
    "        if len((i)) > n:\n",
    "            l.append(i)\n",
    "    return l\n",
    "\n",
    "print(filter_long_words('Where there is a will , there is a way',3))\n",
    "        "
   ]
  },
  {
   "cell_type": "markdown",
   "metadata": {},
   "source": [
    "### 2.1"
   ]
  },
  {
   "cell_type": "markdown",
   "metadata": {},
   "source": [
    "Write a Python program using function concept that maps  list of words into a list of integers representing \n",
    "the lengths of the corresponding words​.  \n",
    "Hint: ​If a list [ ab,cde,erty] is passed on to the python function output should come as [2,3,4] \n",
    "Here 2,3 and 4 are the lengths of the words in the list. \n",
    " "
   ]
  },
  {
   "cell_type": "code",
   "execution_count": 85,
   "metadata": {},
   "outputs": [
    {
     "name": "stdout",
     "output_type": "stream",
     "text": [
      "[4, 4, 1, 4]\n",
      "[2, 3, 4]\n"
     ]
    }
   ],
   "source": [
    "def length_words(lst):\n",
    "    return list(map(lambda x: len(x),lst))\n",
    "    \n",
    "print(length_words(['Once', 'upon', 'a', 'time']))\n",
    "print(length_words(['ab','cde','erty']))"
   ]
  },
  {
   "cell_type": "markdown",
   "metadata": {},
   "source": [
    "### 2.2"
   ]
  },
  {
   "cell_type": "markdown",
   "metadata": {},
   "source": [
    "Write a Python function which takes a character (i.e. a string of length 1) and returns True if it is a vowel, \n",
    "False otherwise.   "
   ]
  },
  {
   "cell_type": "code",
   "execution_count": 80,
   "metadata": {},
   "outputs": [
    {
     "name": "stdout",
     "output_type": "stream",
     "text": [
      "f\n",
      "False\n"
     ]
    }
   ],
   "source": [
    "char = input()\n",
    "def vowel_chk(char):\n",
    "    l = ['a','e','i','o','u','A','E','I','O','U']\n",
    "    if len(char) > 1:\n",
    "        return 'Not a valid character'\n",
    "           \n",
    "    for i in l:\n",
    "        if i == char:\n",
    "            return True\n",
    "    else:\n",
    "            return False\n",
    "    \n",
    "print(vowel_chk(char))"
   ]
  },
  {
   "cell_type": "code",
   "execution_count": 8,
   "metadata": {},
   "outputs": [
    {
     "name": "stdout",
     "output_type": "stream",
     "text": [
      "i\n",
      "True\n"
     ]
    }
   ],
   "source": [
    "char = input()\n",
    "def vowel_chk(char):\n",
    "    l = ['a','e','i','o','u','A','E','I','O','U']\n",
    "    if len(char) > 1:\n",
    "        return 'Not a valid character'\n",
    "           \n",
    "    for i in l:\n",
    "        if i == char:\n",
    "            return True\n",
    "    else:\n",
    "            return False\n",
    "    \n",
    "print(vowel_chk(char))"
   ]
  },
  {
   "cell_type": "code",
   "execution_count": null,
   "metadata": {},
   "outputs": [],
   "source": []
  }
 ],
 "metadata": {
  "kernelspec": {
   "display_name": "Python 3",
   "language": "python",
   "name": "python3"
  },
  "language_info": {
   "codemirror_mode": {
    "name": "ipython",
    "version": 3
   },
   "file_extension": ".py",
   "mimetype": "text/x-python",
   "name": "python",
   "nbconvert_exporter": "python",
   "pygments_lexer": "ipython3",
   "version": "3.7.0"
  }
 },
 "nbformat": 4,
 "nbformat_minor": 2
}
